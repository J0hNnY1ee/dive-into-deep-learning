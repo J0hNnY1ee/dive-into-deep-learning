{
 "cells": [
  {
   "cell_type": "code",
   "execution_count": 1,
   "metadata": {},
   "outputs": [
    {
     "data": {
      "text/plain": [
       "tensor([[0.3780],\n",
       "        [0.4650]], grad_fn=<AddmmBackward0>)"
      ]
     },
     "execution_count": 1,
     "metadata": {},
     "output_type": "execute_result"
    }
   ],
   "source": [
    "import torch\n",
    "from torch import nn\n",
    "\n",
    "net = nn.Sequential(nn.Linear(4, 8), nn.ReLU(), nn.Linear(8, 1))\n",
    "X = torch.rand(size=(2, 4))\n",
    "net(X)"
   ]
  },
  {
   "cell_type": "code",
   "execution_count": 3,
   "metadata": {},
   "outputs": [
    {
     "name": "stdout",
     "output_type": "stream",
     "text": [
      "OrderedDict([('weight', tensor([[-0.1735,  0.1456,  0.4100, -0.0242],\n",
      "        [-0.3693,  0.4671, -0.1094, -0.1415],\n",
      "        [ 0.4524,  0.0191,  0.0210, -0.2094],\n",
      "        [-0.2593,  0.0473,  0.1264,  0.2946],\n",
      "        [ 0.2882, -0.4520, -0.4916,  0.1680],\n",
      "        [ 0.0204,  0.1585,  0.2902, -0.2107],\n",
      "        [ 0.2224, -0.1997,  0.1240,  0.4082],\n",
      "        [ 0.4438,  0.3877, -0.4829, -0.3947]])), ('bias', tensor([-0.0689, -0.2388,  0.4324, -0.3948,  0.0382,  0.0296,  0.1731, -0.4694]))])\n"
     ]
    }
   ],
   "source": [
    "print(net[0].state_dict())"
   ]
  }
 ],
 "metadata": {
  "kernelspec": {
   "display_name": "Python 3",
   "language": "python",
   "name": "python3"
  },
  "language_info": {
   "codemirror_mode": {
    "name": "ipython",
    "version": 3
   },
   "file_extension": ".py",
   "mimetype": "text/x-python",
   "name": "python",
   "nbconvert_exporter": "python",
   "pygments_lexer": "ipython3",
   "version": "3.9.21"
  }
 },
 "nbformat": 4,
 "nbformat_minor": 2
}
